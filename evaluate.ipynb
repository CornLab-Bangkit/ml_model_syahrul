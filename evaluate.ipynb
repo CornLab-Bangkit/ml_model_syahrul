{
 "cells": [
  {
   "cell_type": "code",
   "execution_count": 1,
   "metadata": {},
   "outputs": [
    {
     "name": "stdout",
     "output_type": "stream",
     "text": [
      "Requirement already satisfied: tensorflow<2.11 in c:\\users\\lenovo\\miniconda3\\envs\\tf\\lib\\site-packages (2.10.1)\n",
      "Requirement already satisfied: absl-py>=1.0.0 in c:\\users\\lenovo\\miniconda3\\envs\\tf\\lib\\site-packages (from tensorflow<2.11) (2.1.0)\n",
      "Requirement already satisfied: astunparse>=1.6.0 in c:\\users\\lenovo\\miniconda3\\envs\\tf\\lib\\site-packages (from tensorflow<2.11) (1.6.3)\n",
      "Requirement already satisfied: flatbuffers>=2.0 in c:\\users\\lenovo\\miniconda3\\envs\\tf\\lib\\site-packages (from tensorflow<2.11) (24.3.25)\n",
      "Requirement already satisfied: gast<=0.4.0,>=0.2.1 in c:\\users\\lenovo\\miniconda3\\envs\\tf\\lib\\site-packages (from tensorflow<2.11) (0.4.0)\n",
      "Requirement already satisfied: google-pasta>=0.1.1 in c:\\users\\lenovo\\miniconda3\\envs\\tf\\lib\\site-packages (from tensorflow<2.11) (0.2.0)\n",
      "Requirement already satisfied: h5py>=2.9.0 in c:\\users\\lenovo\\miniconda3\\envs\\tf\\lib\\site-packages (from tensorflow<2.11) (3.12.1)\n",
      "Requirement already satisfied: keras-preprocessing>=1.1.1 in c:\\users\\lenovo\\miniconda3\\envs\\tf\\lib\\site-packages (from tensorflow<2.11) (1.1.2)\n",
      "Requirement already satisfied: libclang>=13.0.0 in c:\\users\\lenovo\\miniconda3\\envs\\tf\\lib\\site-packages (from tensorflow<2.11) (18.1.1)\n",
      "Requirement already satisfied: numpy>=1.20 in c:\\users\\lenovo\\miniconda3\\envs\\tf\\lib\\site-packages (from tensorflow<2.11) (1.26.4)\n",
      "Requirement already satisfied: opt-einsum>=2.3.2 in c:\\users\\lenovo\\miniconda3\\envs\\tf\\lib\\site-packages (from tensorflow<2.11) (3.4.0)\n",
      "Requirement already satisfied: packaging in c:\\users\\lenovo\\miniconda3\\envs\\tf\\lib\\site-packages (from tensorflow<2.11) (24.2)\n",
      "Requirement already satisfied: protobuf<3.20,>=3.9.2 in c:\\users\\lenovo\\miniconda3\\envs\\tf\\lib\\site-packages (from tensorflow<2.11) (3.19.6)\n",
      "Requirement already satisfied: setuptools in c:\\users\\lenovo\\miniconda3\\envs\\tf\\lib\\site-packages (from tensorflow<2.11) (75.6.0)\n",
      "Requirement already satisfied: six>=1.12.0 in c:\\users\\lenovo\\miniconda3\\envs\\tf\\lib\\site-packages (from tensorflow<2.11) (1.16.0)\n",
      "Requirement already satisfied: termcolor>=1.1.0 in c:\\users\\lenovo\\miniconda3\\envs\\tf\\lib\\site-packages (from tensorflow<2.11) (2.5.0)\n",
      "Requirement already satisfied: typing-extensions>=3.6.6 in c:\\users\\lenovo\\miniconda3\\envs\\tf\\lib\\site-packages (from tensorflow<2.11) (4.12.2)\n",
      "Requirement already satisfied: wrapt>=1.11.0 in c:\\users\\lenovo\\miniconda3\\envs\\tf\\lib\\site-packages (from tensorflow<2.11) (1.14.1)\n",
      "Requirement already satisfied: tensorflow-io-gcs-filesystem>=0.23.1 in c:\\users\\lenovo\\miniconda3\\envs\\tf\\lib\\site-packages (from tensorflow<2.11) (0.31.0)\n",
      "Requirement already satisfied: grpcio<2.0,>=1.24.3 in c:\\users\\lenovo\\miniconda3\\envs\\tf\\lib\\site-packages (from tensorflow<2.11) (1.68.0)\n",
      "Requirement already satisfied: tensorboard<2.11,>=2.10 in c:\\users\\lenovo\\miniconda3\\envs\\tf\\lib\\site-packages (from tensorflow<2.11) (2.10.1)\n",
      "Requirement already satisfied: tensorflow-estimator<2.11,>=2.10.0 in c:\\users\\lenovo\\miniconda3\\envs\\tf\\lib\\site-packages (from tensorflow<2.11) (2.10.0)\n",
      "Requirement already satisfied: keras<2.11,>=2.10.0 in c:\\users\\lenovo\\miniconda3\\envs\\tf\\lib\\site-packages (from tensorflow<2.11) (2.10.0)\n",
      "Requirement already satisfied: wheel<1.0,>=0.23.0 in c:\\users\\lenovo\\miniconda3\\envs\\tf\\lib\\site-packages (from astunparse>=1.6.0->tensorflow<2.11) (0.45.1)\n",
      "Requirement already satisfied: google-auth<3,>=1.6.3 in c:\\users\\lenovo\\miniconda3\\envs\\tf\\lib\\site-packages (from tensorboard<2.11,>=2.10->tensorflow<2.11) (2.36.0)\n",
      "Requirement already satisfied: google-auth-oauthlib<0.5,>=0.4.1 in c:\\users\\lenovo\\miniconda3\\envs\\tf\\lib\\site-packages (from tensorboard<2.11,>=2.10->tensorflow<2.11) (0.4.6)\n",
      "Requirement already satisfied: markdown>=2.6.8 in c:\\users\\lenovo\\miniconda3\\envs\\tf\\lib\\site-packages (from tensorboard<2.11,>=2.10->tensorflow<2.11) (3.7)\n",
      "Requirement already satisfied: requests<3,>=2.21.0 in c:\\users\\lenovo\\miniconda3\\envs\\tf\\lib\\site-packages (from tensorboard<2.11,>=2.10->tensorflow<2.11) (2.32.3)\n",
      "Requirement already satisfied: tensorboard-data-server<0.7.0,>=0.6.0 in c:\\users\\lenovo\\miniconda3\\envs\\tf\\lib\\site-packages (from tensorboard<2.11,>=2.10->tensorflow<2.11) (0.6.1)\n",
      "Requirement already satisfied: tensorboard-plugin-wit>=1.6.0 in c:\\users\\lenovo\\miniconda3\\envs\\tf\\lib\\site-packages (from tensorboard<2.11,>=2.10->tensorflow<2.11) (1.8.1)\n",
      "Requirement already satisfied: werkzeug>=1.0.1 in c:\\users\\lenovo\\miniconda3\\envs\\tf\\lib\\site-packages (from tensorboard<2.11,>=2.10->tensorflow<2.11) (3.1.3)\n",
      "Requirement already satisfied: cachetools<6.0,>=2.0.0 in c:\\users\\lenovo\\miniconda3\\envs\\tf\\lib\\site-packages (from google-auth<3,>=1.6.3->tensorboard<2.11,>=2.10->tensorflow<2.11) (5.5.0)\n",
      "Requirement already satisfied: pyasn1-modules>=0.2.1 in c:\\users\\lenovo\\miniconda3\\envs\\tf\\lib\\site-packages (from google-auth<3,>=1.6.3->tensorboard<2.11,>=2.10->tensorflow<2.11) (0.4.1)\n",
      "Requirement already satisfied: rsa<5,>=3.1.4 in c:\\users\\lenovo\\miniconda3\\envs\\tf\\lib\\site-packages (from google-auth<3,>=1.6.3->tensorboard<2.11,>=2.10->tensorflow<2.11) (4.9)\n",
      "Requirement already satisfied: requests-oauthlib>=0.7.0 in c:\\users\\lenovo\\miniconda3\\envs\\tf\\lib\\site-packages (from google-auth-oauthlib<0.5,>=0.4.1->tensorboard<2.11,>=2.10->tensorflow<2.11) (2.0.0)\n",
      "Requirement already satisfied: importlib-metadata>=4.4 in c:\\users\\lenovo\\miniconda3\\envs\\tf\\lib\\site-packages (from markdown>=2.6.8->tensorboard<2.11,>=2.10->tensorflow<2.11) (8.5.0)\n",
      "Requirement already satisfied: charset-normalizer<4,>=2 in c:\\users\\lenovo\\miniconda3\\envs\\tf\\lib\\site-packages (from requests<3,>=2.21.0->tensorboard<2.11,>=2.10->tensorflow<2.11) (3.4.0)\n",
      "Requirement already satisfied: idna<4,>=2.5 in c:\\users\\lenovo\\miniconda3\\envs\\tf\\lib\\site-packages (from requests<3,>=2.21.0->tensorboard<2.11,>=2.10->tensorflow<2.11) (3.10)\n",
      "Requirement already satisfied: urllib3<3,>=1.21.1 in c:\\users\\lenovo\\miniconda3\\envs\\tf\\lib\\site-packages (from requests<3,>=2.21.0->tensorboard<2.11,>=2.10->tensorflow<2.11) (2.2.3)\n",
      "Requirement already satisfied: certifi>=2017.4.17 in c:\\users\\lenovo\\miniconda3\\envs\\tf\\lib\\site-packages (from requests<3,>=2.21.0->tensorboard<2.11,>=2.10->tensorflow<2.11) (2024.8.30)\n",
      "Requirement already satisfied: MarkupSafe>=2.1.1 in c:\\users\\lenovo\\miniconda3\\envs\\tf\\lib\\site-packages (from werkzeug>=1.0.1->tensorboard<2.11,>=2.10->tensorflow<2.11) (3.0.2)\n",
      "Requirement already satisfied: zipp>=3.20 in c:\\users\\lenovo\\miniconda3\\envs\\tf\\lib\\site-packages (from importlib-metadata>=4.4->markdown>=2.6.8->tensorboard<2.11,>=2.10->tensorflow<2.11) (3.21.0)\n",
      "Requirement already satisfied: pyasn1<0.7.0,>=0.4.6 in c:\\users\\lenovo\\miniconda3\\envs\\tf\\lib\\site-packages (from pyasn1-modules>=0.2.1->google-auth<3,>=1.6.3->tensorboard<2.11,>=2.10->tensorflow<2.11) (0.6.1)\n",
      "Requirement already satisfied: oauthlib>=3.0.0 in c:\\users\\lenovo\\miniconda3\\envs\\tf\\lib\\site-packages (from requests-oauthlib>=0.7.0->google-auth-oauthlib<0.5,>=0.4.1->tensorboard<2.11,>=2.10->tensorflow<2.11) (3.2.2)\n"
     ]
    }
   ],
   "source": [
    "!pip install \"tensorflow<2.11\"\n",
    "import tensorflow as tf"
   ]
  },
  {
   "cell_type": "code",
   "execution_count": 3,
   "metadata": {},
   "outputs": [
    {
     "name": "stdout",
     "output_type": "stream",
     "text": [
      "Found 4740 images belonging to 4 classes.\n"
     ]
    }
   ],
   "source": [
    "BATCH_SIZE = 32\n",
    "valid_gen = tf.keras.preprocessing.image.ImageDataGenerator(rescale=1./255)\n",
    "\n",
    "valid_gen = valid_gen.flow_from_directory(\n",
    "    'data',\n",
    "    target_size=(224, 224),\n",
    "    batch_size=BATCH_SIZE,\n",
    "    class_mode='categorical'\n",
    ")"
   ]
  },
  {
   "cell_type": "code",
   "execution_count": 6,
   "metadata": {},
   "outputs": [
    {
     "name": "stdout",
     "output_type": "stream",
     "text": [
      "149/149 [==============================] - 14s 68ms/step - loss: 8.5852 - accuracy: 0.2755\n",
      "Test Loss: 8.58523941040039\n",
      "Test Accuracy: 0.2755274176597595\n"
     ]
    }
   ],
   "source": [
    "# Memuat model terbaik dari file\n",
    "import os\n",
    "model_dir = 'model'\n",
    "best_model = tf.keras.models.load_model(os.path.join(model_dir, 'best_model.keras'))\n",
    "\n",
    "\n",
    "# Evaluasi model\n",
    "test_loss, test_accuracy = best_model.evaluate(valid_gen)\n",
    "print(f\"Test Loss: {test_loss}\")\n",
    "print(f\"Test Accuracy: {test_accuracy}\")"
   ]
  },
  {
   "cell_type": "code",
   "execution_count": null,
   "metadata": {},
   "outputs": [],
   "source": []
  }
 ],
 "metadata": {
  "kernelspec": {
   "display_name": "tf",
   "language": "python",
   "name": "python3"
  },
  "language_info": {
   "codemirror_mode": {
    "name": "ipython",
    "version": 3
   },
   "file_extension": ".py",
   "mimetype": "text/x-python",
   "name": "python",
   "nbconvert_exporter": "python",
   "pygments_lexer": "ipython3",
   "version": "3.9.20"
  }
 },
 "nbformat": 4,
 "nbformat_minor": 2
}
