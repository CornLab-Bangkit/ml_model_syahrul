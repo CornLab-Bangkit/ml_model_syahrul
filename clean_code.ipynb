{
 "cells": [
  {
   "cell_type": "code",
   "execution_count": 1,
   "metadata": {},
   "outputs": [],
   "source": [
    "# !pip install \"tensorflow<2.11\""
   ]
  },
  {
   "cell_type": "code",
   "execution_count": 2,
   "metadata": {},
   "outputs": [],
   "source": [
    "import tensorflow as tf\n",
    "import numpy as np\n",
    "import pandas as pd\n",
    "import matplotlib.pyplot as plt\n",
    "import os\n",
    "from sklearn.model_selection import train_test_split\n",
    "from tensorflow.keras.callbacks import Callback, ModelCheckpoint, EarlyStopping\n",
    "from tensorflow.keras.layers import Conv2D, MaxPooling2D, Flatten, Dense, Activation, Dropout, BatchNormalization"
   ]
  },
  {
   "cell_type": "code",
   "execution_count": 3,
   "metadata": {},
   "outputs": [
    {
     "name": "stdout",
     "output_type": "stream",
     "text": [
      "Using GPU: PhysicalDevice(name='/physical_device:GPU:0', device_type='GPU')\n"
     ]
    }
   ],
   "source": [
    "# Connect ke GPU\n",
    "gpus = tf.config.experimental.list_physical_devices('GPU')\n",
    "if gpus:\n",
    "    try:\n",
    "        for gpu in gpus:\n",
    "            tf.config.experimental.set_memory_growth(gpu, True)\n",
    "        tf.config.experimental.set_visible_devices(gpus[0], 'GPU')\n",
    "        print(\"Using GPU:\", gpus[0])\n",
    "    except RuntimeError as e:\n",
    "        print(e)\n",
    "else:\n",
    "    print(\"No GPU found.\")"
   ]
  },
  {
   "cell_type": "code",
   "execution_count": 4,
   "metadata": {},
   "outputs": [],
   "source": [
    "PATH_DATA = \"data\"\n",
    "\n",
    "images = []\n",
    "labels = []\n",
    "\n",
    "for subfolder in os.listdir(PATH_DATA):\n",
    "    \n",
    "    subfolder_path = os.path.join(PATH_DATA, subfolder)\n",
    "    if not os.path.isdir(subfolder_path):\n",
    "        continue\n",
    "  \n",
    "    for image_filename in os.listdir(subfolder_path):\n",
    "        image_path = os.path.join(subfolder_path, image_filename)\n",
    "        images.append(image_path)\n",
    "        labels.append(subfolder)\n",
    " \n",
    "df = pd.DataFrame({'image': images, 'label': labels})"
   ]
  },
  {
   "cell_type": "code",
   "execution_count": 5,
   "metadata": {},
   "outputs": [],
   "source": [
    "# All Augmentation\n",
    "def augmentation():\n",
    "    augmentation_img = tf.keras.preprocessing.image.ImageDataGenerator( \n",
    "        rotation_range=30, \n",
    "        width_shift_range=0.1, \n",
    "        height_shift_range=0.1, \n",
    "        shear_range=0.2, \n",
    "        zoom_range=0.2, \n",
    "        horizontal_flip=True, \n",
    "        fill_mode='nearest' \n",
    "        ) \n",
    "    return augmentation_img"
   ]
  },
  {
   "cell_type": "code",
   "execution_count": 6,
   "metadata": {},
   "outputs": [
    {
     "name": "stdout",
     "output_type": "stream",
     "text": [
      "Found 3839 validated image filenames belonging to 4 classes.\n",
      "Found 450 validated image filenames belonging to 4 classes.\n",
      "Found 451 validated image filenames belonging to 4 classes.\n"
     ]
    }
   ],
   "source": [
    "IMG_SIZE = (224, 224)\n",
    "BATCH_SIZE = 32\n",
    "\n",
    "# Split data into training, validation, and test sets\n",
    "strat1 = df['label']\n",
    "train_df, dummy_df = train_test_split(df,  train_size= 0.81, shuffle= True, random_state= 123, stratify= strat1)\n",
    "\n",
    "strat2 = dummy_df['label']\n",
    "valid_df, test_df = train_test_split(dummy_df,  train_size= 0.5, shuffle= True, random_state= 123, stratify= strat2)\n",
    "\n",
    "train_gen = tf.keras.preprocessing.image.ImageDataGenerator()\n",
    "test_gen = tf.keras.preprocessing.image.ImageDataGenerator()\n",
    "\n",
    "\n",
    "train_ds = train_gen.flow_from_dataframe(train_df, x_col='image', y_col='label', target_size=IMG_SIZE, class_mode='categorical', color_mode='rgb', shuffle=True, batch_size=BATCH_SIZE)\n",
    "\n",
    "valid_ds = test_gen.flow_from_dataframe(valid_df, x_col='image', y_col='label', target_size=IMG_SIZE, class_mode='categorical', color_mode='rgb', shuffle=True, batch_size=BATCH_SIZE)\n",
    "\n",
    "test_ds = test_gen.flow_from_dataframe(test_df, x_col='image', y_col='label', target_size=IMG_SIZE, class_mode='categorical', color_mode='rgb', shuffle=False, batch_size=BATCH_SIZE)"
   ]
  },
  {
   "cell_type": "code",
   "execution_count": 7,
   "metadata": {},
   "outputs": [
    {
     "name": "stdout",
     "output_type": "stream",
     "text": [
      "{'Blight': 0, 'Common_Rust': 1, 'Gray_Leaf_Spot': 2, 'Healthy': 3}\n",
      "{'Blight': 0, 'Common_Rust': 1, 'Gray_Leaf_Spot': 2, 'Healthy': 3}\n",
      "{'Blight': 0, 'Common_Rust': 1, 'Gray_Leaf_Spot': 2, 'Healthy': 3}\n"
     ]
    }
   ],
   "source": [
    "# Look \n",
    "print(train_ds.class_indices)\n",
    "print(valid_ds.class_indices)\n",
    "print(test_ds.class_indices)"
   ]
  },
  {
   "cell_type": "code",
   "execution_count": 8,
   "metadata": {},
   "outputs": [],
   "source": [
    "train_gen = augmentation()"
   ]
  },
  {
   "cell_type": "code",
   "execution_count": 9,
   "metadata": {},
   "outputs": [],
   "source": [
    "# Custom Callback\n",
    "model_dir = 'model'\n",
    "\n",
    "class CustomCallback(Callback):\n",
    "    def __init__(self, validation_data):\n",
    "        super(CustomCallback, self).__init__()\n",
    "        self.validation_data = validation_data\n",
    "\n",
    "    def on_epoch_end(self, epoch, logs=None):\n",
    "        logs = logs or {}\n",
    "        val_loss = logs.get('val_loss', None)\n",
    "        val_accuracy = logs.get('val_accuracy', None)\n",
    "\n",
    "        # Contoh: Menyimpan metrik validasi ke file\n",
    "        with open(\"training_log.txt\", \"a\") as f:\n",
    "            f.write(f\"Epoch {epoch + 1}:  Validation Loss = {val_loss:.4f}, Validation Accuracy = {val_accuracy:.4f}\\n\")\n",
    "\n",
    "        # Tambahan: Bisa menghentikan pelatihan jika suatu kondisi terpenuhi\n",
    "        if val_accuracy and val_accuracy > 0.95:\n",
    "            print(\"Validation accuracy exceeded 95%. Stopping training!\")\n",
    "            self.model.stop_training = True\n",
    "\n",
    "\n",
    "checkpoint = ModelCheckpoint(\n",
    "    \n",
    "    filepath=os.path.join(model_dir, 'best_model.keras'),  # Simpan model terbaik\n",
    "    monitor='val_accuracy',        # Berdasarkan akurasi validasi\n",
    "    save_best_only=True,           # Hanya menyimpan model terbaik\n",
    "    mode='max',                    # Mencari nilai maksimum akurasi\n",
    "    verbose=1\n",
    ")\n",
    "\n",
    "earlystop = EarlyStopping(\n",
    "    monitor='val_loss',         # Metode evaluasi yang dimonitor (val_loss atau val_accuracy)\n",
    "    patience=10,                 # Jumlah epoch tanpa perbaikan sebelum menghentikan pelatihan\n",
    "    verbose=1,                  # Menampilkan informasi saat pelatihan dihentikan\n",
    "    restore_best_weights=True   # Mengembalikan bobot model ke yang terbaik pada akhir pelatihan\n",
    ")\n"
   ]
  },
  {
   "cell_type": "code",
   "execution_count": 10,
   "metadata": {},
   "outputs": [],
   "source": [
    "# summon callback\n",
    "custom_callback = CustomCallback(validation_data=valid_ds)\n",
    "\n",
    "callbacks = [checkpoint, custom_callback, earlystop]"
   ]
  },
  {
   "cell_type": "code",
   "execution_count": 11,
   "metadata": {},
   "outputs": [],
   "source": [
    "def model_1():\n",
    "    model = tf.keras.models.Sequential()\n",
    "\n",
    "    model.add(tf.keras.layers.InputLayer(input_shape=(224, 224, 3)))\n",
    "\n",
    "    model.add(Conv2D(filters=32, kernel_size=(3, 3), padding='same', activation='relu'))\n",
    "    # model.add(BatchNormalization())\n",
    "    model.add(MaxPooling2D(pool_size=(2, 2)))\n",
    "\n",
    "    model.add(Conv2D(filters=64, kernel_size=(3, 3), padding='same', activation='relu'))\n",
    "    # model.add(BatchNormalization())\n",
    "    model.add(MaxPooling2D(pool_size=(2, 2)))\n",
    "\n",
    "    model.add(Conv2D(filters=128, kernel_size=(3, 3), padding='same', activation='relu'))\n",
    "    # model.add(BatchNormalization())\n",
    "    model.add(MaxPooling2D(pool_size=(2, 2)))\n",
    "\n",
    "    model.add(Conv2D(filters=256, kernel_size=(3, 3), padding='same', activation='relu'))\n",
    "    # model.add(BatchNormalization())\n",
    "    model.add(MaxPooling2D(pool_size=(2, 2)))\n",
    "\n",
    "    model.add(Flatten())\n",
    "    # model.add(Dropout(0.5))\n",
    "    model.add(Dense(512, activation='relu',  kernel_regularizer=tf.keras.regularizers.l2(0.0001)))\n",
    "    model.add(Dropout(0.3))\n",
    "    model.add(Dense(4, activation='softmax', kernel_regularizer=tf.keras.regularizers.l2(0.0001)))\n",
    "\n",
    "    return model"
   ]
  },
  {
   "cell_type": "code",
   "execution_count": 12,
   "metadata": {},
   "outputs": [
    {
     "name": "stdout",
     "output_type": "stream",
     "text": [
      "Model: \"sequential\"\n",
      "_________________________________________________________________\n",
      " Layer (type)                Output Shape              Param #   \n",
      "=================================================================\n",
      " conv2d (Conv2D)             (None, 224, 224, 32)      896       \n",
      "                                                                 \n",
      " max_pooling2d (MaxPooling2D  (None, 112, 112, 32)     0         \n",
      " )                                                               \n",
      "                                                                 \n",
      " conv2d_1 (Conv2D)           (None, 112, 112, 64)      18496     \n",
      "                                                                 \n",
      " max_pooling2d_1 (MaxPooling  (None, 56, 56, 64)       0         \n",
      " 2D)                                                             \n",
      "                                                                 \n",
      " conv2d_2 (Conv2D)           (None, 56, 56, 128)       73856     \n",
      "                                                                 \n",
      " max_pooling2d_2 (MaxPooling  (None, 28, 28, 128)      0         \n",
      " 2D)                                                             \n",
      "                                                                 \n",
      " conv2d_3 (Conv2D)           (None, 28, 28, 256)       295168    \n",
      "                                                                 \n",
      " max_pooling2d_3 (MaxPooling  (None, 14, 14, 256)      0         \n",
      " 2D)                                                             \n",
      "                                                                 \n",
      " flatten (Flatten)           (None, 50176)             0         \n",
      "                                                                 \n",
      " dense (Dense)               (None, 512)               25690624  \n",
      "                                                                 \n",
      " dropout (Dropout)           (None, 512)               0         \n",
      "                                                                 \n",
      " dense_1 (Dense)             (None, 4)                 2052      \n",
      "                                                                 \n",
      "=================================================================\n",
      "Total params: 26,081,092\n",
      "Trainable params: 26,081,092\n",
      "Non-trainable params: 0\n",
      "_________________________________________________________________\n"
     ]
    }
   ],
   "source": [
    "# make model summary\n",
    "model = model_1()\n",
    "model.summary()"
   ]
  },
  {
   "cell_type": "code",
   "execution_count": 13,
   "metadata": {},
   "outputs": [
    {
     "name": "stdout",
     "output_type": "stream",
     "text": [
      "Epoch 1/50\n",
      "  6/120 [>.............................] - ETA: 12s - loss: 176.9335 - accuracy: 0.2969WARNING:tensorflow:Callback method `on_train_batch_end` is slow compared to the batch time (batch time: 0.0298s vs `on_train_batch_end` time: 0.0657s). Check your callbacks.\n",
      "120/120 [==============================] - ETA: 0s - loss: 9.7761 - accuracy: 0.5983\n",
      "Epoch 1: val_accuracy improved from -inf to 0.77333, saving model to model\\best_model.keras\n",
      "120/120 [==============================] - 23s 141ms/step - loss: 9.7761 - accuracy: 0.5983 - val_loss: 0.6462 - val_accuracy: 0.7733\n",
      "Epoch 2/50\n",
      "120/120 [==============================] - ETA: 0s - loss: 0.6448 - accuracy: 0.7510\n",
      "Epoch 2: val_accuracy improved from 0.77333 to 0.80000, saving model to model\\best_model.keras\n",
      "120/120 [==============================] - 14s 117ms/step - loss: 0.6448 - accuracy: 0.7510 - val_loss: 0.5552 - val_accuracy: 0.8000\n",
      "Epoch 3/50\n",
      "120/120 [==============================] - ETA: 0s - loss: 0.5828 - accuracy: 0.7775\n",
      "Epoch 3: val_accuracy improved from 0.80000 to 0.81556, saving model to model\\best_model.keras\n",
      "120/120 [==============================] - 14s 116ms/step - loss: 0.5828 - accuracy: 0.7775 - val_loss: 0.5790 - val_accuracy: 0.8156\n",
      "Epoch 4/50\n",
      "120/120 [==============================] - ETA: 0s - loss: 0.5084 - accuracy: 0.8270\n",
      "Epoch 4: val_accuracy improved from 0.81556 to 0.84000, saving model to model\\best_model.keras\n",
      "120/120 [==============================] - 14s 117ms/step - loss: 0.5084 - accuracy: 0.8270 - val_loss: 0.4869 - val_accuracy: 0.8400\n",
      "Epoch 5/50\n",
      "120/120 [==============================] - ETA: 0s - loss: 0.4329 - accuracy: 0.8638\n",
      "Epoch 5: val_accuracy improved from 0.84000 to 0.87333, saving model to model\\best_model.keras\n",
      "120/120 [==============================] - 14s 120ms/step - loss: 0.4329 - accuracy: 0.8638 - val_loss: 0.4858 - val_accuracy: 0.8733\n",
      "Epoch 6/50\n",
      "120/120 [==============================] - ETA: 0s - loss: 0.4307 - accuracy: 0.8752\n",
      "Epoch 6: val_accuracy improved from 0.87333 to 0.87556, saving model to model\\best_model.keras\n",
      "120/120 [==============================] - 14s 120ms/step - loss: 0.4307 - accuracy: 0.8752 - val_loss: 0.5113 - val_accuracy: 0.8756\n",
      "Epoch 7/50\n",
      "120/120 [==============================] - ETA: 0s - loss: 0.3520 - accuracy: 0.9023\n",
      "Epoch 7: val_accuracy did not improve from 0.87556\n",
      "120/120 [==============================] - 14s 113ms/step - loss: 0.3520 - accuracy: 0.9023 - val_loss: 0.4624 - val_accuracy: 0.8711\n",
      "Epoch 8/50\n",
      "120/120 [==============================] - ETA: 0s - loss: 0.3324 - accuracy: 0.9164\n",
      "Epoch 8: val_accuracy did not improve from 0.87556\n",
      "120/120 [==============================] - 14s 115ms/step - loss: 0.3324 - accuracy: 0.9164 - val_loss: 0.4838 - val_accuracy: 0.8711\n",
      "Epoch 9/50\n",
      "120/120 [==============================] - ETA: 0s - loss: 0.3528 - accuracy: 0.9148\n",
      "Epoch 9: val_accuracy improved from 0.87556 to 0.89111, saving model to model\\best_model.keras\n",
      "120/120 [==============================] - 14s 117ms/step - loss: 0.3528 - accuracy: 0.9148 - val_loss: 0.5062 - val_accuracy: 0.8911\n",
      "Epoch 10/50\n",
      "120/120 [==============================] - ETA: 0s - loss: 0.3100 - accuracy: 0.9323\n",
      "Epoch 10: val_accuracy did not improve from 0.89111\n",
      "120/120 [==============================] - 14s 113ms/step - loss: 0.3100 - accuracy: 0.9323 - val_loss: 0.5556 - val_accuracy: 0.8556\n",
      "Epoch 11/50\n",
      "120/120 [==============================] - ETA: 0s - loss: 0.2756 - accuracy: 0.9443\n",
      "Epoch 11: val_accuracy did not improve from 0.89111\n",
      "120/120 [==============================] - 14s 113ms/step - loss: 0.2756 - accuracy: 0.9443 - val_loss: 0.5846 - val_accuracy: 0.8689\n",
      "Epoch 12/50\n",
      "120/120 [==============================] - ETA: 0s - loss: 0.2365 - accuracy: 0.9531\n",
      "Epoch 12: val_accuracy did not improve from 0.89111\n",
      "120/120 [==============================] - 14s 113ms/step - loss: 0.2365 - accuracy: 0.9531 - val_loss: 0.5350 - val_accuracy: 0.8911\n",
      "Epoch 13/50\n",
      "120/120 [==============================] - ETA: 0s - loss: 0.1907 - accuracy: 0.9750\n",
      "Epoch 13: val_accuracy did not improve from 0.89111\n",
      "120/120 [==============================] - 14s 114ms/step - loss: 0.1907 - accuracy: 0.9750 - val_loss: 0.6056 - val_accuracy: 0.8756\n",
      "Epoch 14/50\n",
      "120/120 [==============================] - ETA: 0s - loss: 0.2149 - accuracy: 0.9690\n",
      "Epoch 14: val_accuracy did not improve from 0.89111\n",
      "120/120 [==============================] - 14s 114ms/step - loss: 0.2149 - accuracy: 0.9690 - val_loss: 0.5775 - val_accuracy: 0.8756\n",
      "Epoch 15/50\n",
      "120/120 [==============================] - ETA: 0s - loss: 0.1859 - accuracy: 0.9794\n",
      "Epoch 15: val_accuracy did not improve from 0.89111\n",
      "120/120 [==============================] - 14s 115ms/step - loss: 0.1859 - accuracy: 0.9794 - val_loss: 0.6949 - val_accuracy: 0.8711\n",
      "Epoch 16/50\n",
      "120/120 [==============================] - ETA: 0s - loss: 0.1921 - accuracy: 0.9737\n",
      "Epoch 16: val_accuracy did not improve from 0.89111\n",
      "120/120 [==============================] - 14s 117ms/step - loss: 0.1921 - accuracy: 0.9737 - val_loss: 0.6638 - val_accuracy: 0.8778\n",
      "Epoch 17/50\n",
      "120/120 [==============================] - ETA: 0s - loss: 0.1997 - accuracy: 0.9747\n",
      "Epoch 17: val_accuracy did not improve from 0.89111\n",
      "Restoring model weights from the end of the best epoch: 7.\n",
      "120/120 [==============================] - 14s 113ms/step - loss: 0.1997 - accuracy: 0.9747 - val_loss: 0.7412 - val_accuracy: 0.8556\n",
      "Epoch 17: early stopping\n"
     ]
    }
   ],
   "source": [
    "model.compile(\n",
    "    optimizer=tf.keras.optimizers.Adam(learning_rate=0.001),\n",
    "    loss='categorical_crossentropy', \n",
    "    metrics=['accuracy']\n",
    ")\n",
    "\n",
    "# Melatih model\n",
    "history = model.fit(\n",
    "    train_ds,                              # Dataset pelatihan\n",
    "    validation_data=valid_ds,              # Dataset validasi\n",
    "    epochs=50,                             # Maksimal epoch\n",
    "    callbacks=callbacks,                   # Menggunakan callback\n",
    "    verbose=1                              # Progress output\n",
    ")"
   ]
  },
  {
   "cell_type": "code",
   "execution_count": 14,
   "metadata": {},
   "outputs": [],
   "source": [
    "def plot_history(history):\n",
    "    # Plot training & validation loss values\n",
    "    plt.figure(figsize=(12, 5))\n",
    "    \n",
    "    plt.subplot(1, 2, 1)\n",
    "    plt.plot(history.history['loss'], label='Training Loss')\n",
    "    plt.plot(history.history['val_loss'], label='Validation Loss')\n",
    "    plt.title('Training and Validation Loss')\n",
    "    plt.xlabel('Epochs')\n",
    "    plt.ylabel('Loss')\n",
    "    plt.legend()\n",
    "\n",
    "    # Plot training & validation accuracy values\n",
    "    plt.subplot(1, 2, 2)\n",
    "    plt.plot(history.history['accuracy'], label='Training Accuracy')\n",
    "    plt.plot(history.history['val_accuracy'], label='Validation Accuracy')\n",
    "    plt.title('Training and Validation Accuracy')\n",
    "    plt.xlabel('Epochs')\n",
    "    plt.ylabel('Accuracy')\n",
    "    plt.legend()\n",
    "\n",
    "    plt.tight_layout()\n",
    "    plt.show()"
   ]
  },
  {
   "cell_type": "code",
   "execution_count": 15,
   "metadata": {},
   "outputs": [
    {
     "data": {
      "image/png": "[encoded data removed]",
      "text/plain": [
       "<Figure size 1200x500 with 2 Axes>"
      ]
     },
     "metadata": {},
     "output_type": "display_data"
    }
   ],
   "source": [
    "plot_history(history)"
   ]
  }
 ],
 "metadata": {
  "kernelspec": {
   "display_name": "tf",
   "language": "python",
   "name": "python3"
  },
  "language_info": {
   "codemirror_mode": {
    "name": "ipython",
    "version": 3
   },
   "file_extension": ".py",
   "mimetype": "text/x-python",
   "name": "python",
   "nbconvert_exporter": "python",
   "pygments_lexer": "ipython3",
   "version": "3.9.20"
  }
 },
 "nbformat": 4,
 "nbformat_minor": 2
}
